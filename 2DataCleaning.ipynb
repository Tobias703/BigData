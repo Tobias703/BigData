{
 "cells": [
  {
   "cell_type": "markdown",
   "metadata": {},
   "source": [
    "Python Imports"
   ]
  },
  {
   "cell_type": "code",
   "execution_count": null,
   "metadata": {},
   "outputs": [],
   "source": [
    "%pip install --upgrade pip\n",
    "%pip install pandas\n",
    "%pip install numpy\n",
    "%pip install plotly\n",
    "%pip install nbformat"
   ]
  },
  {
   "cell_type": "code",
   "execution_count": 85,
   "metadata": {},
   "outputs": [],
   "source": [
    "import pandas as pd\n",
    "import numpy as np\n",
    "from itertools import groupby\n",
    "from operator import itemgetter\n",
    "import plotly.graph_objs as go\n",
    "import plotly.express as px"
   ]
  },
  {
   "cell_type": "code",
   "execution_count": null,
   "metadata": {},
   "outputs": [],
   "source": [
    "# pandas settings\n",
    "pd.set_option('display.max_rows', None)\n",
    "pd.set_option('display.max_columns', None)\n",
    "pd.set_option('display.width', 0)\n",
    "pd.set_option('display.max_colwidth', None)\n",
    "pd.set_option('display.expand_frame_repr', False)\n",
    "\n",
    "# Defining variables and functions\n",
    "sensors = [\"dig1\", \"ana1\", \"noise\"]\n",
    "        \n",
    "# Load the dataset\n",
    "df = pd.read_csv('1datasetCompressed.csv', comment='#', low_memory=False)\n",
    "df.set_index('Index', inplace=True)\n",
    "\n",
    "# Display the first few rows of the DataFrame\n",
    "print(df.head())"
   ]
  },
  {
   "cell_type": "markdown",
   "metadata": {},
   "source": [
    "Remove impossible Values"
   ]
  },
  {
   "cell_type": "code",
   "execution_count": 87,
   "metadata": {},
   "outputs": [],
   "source": [
    "df.loc[df['dig1'] < 10, 'dig1'] = np.nan\n",
    "df.loc[df['dig1'] > 50, 'dig1'] = np.nan\n",
    "df.loc[df['ana1'] < 10, 'ana1'] = np.nan\n",
    "df.loc[df['ana1'] > 50, 'ana1'] = np.nan\n",
    "df.loc[df['noise'] < 0, 'noise'] = np.nan\n",
    "df.loc[df['noise'] > 100, 'noise'] = np.nan"
   ]
  },
  {
   "cell_type": "markdown",
   "metadata": {},
   "source": [
    "Search the DataFrame for mismatches in Sensordata/Availability for the same indices"
   ]
  },
  {
   "cell_type": "code",
   "execution_count": 88,
   "metadata": {},
   "outputs": [],
   "source": [
    "# Find indices where some sensor values are present but others are not\n",
    "missing_values = df.isna()\n",
    "some_missing = missing_values.any(axis=1) & ~missing_values.all(axis=1)\n",
    "\n",
    "# Get the rows\n",
    "filtered_df = df[some_missing]\n",
    "\n",
    "# Filter out rows that have neighbors with missing values\n",
    "missing_indices = df.index[missing_values.any(axis=1)]\n",
    "def has_missing_neighbors(index):\n",
    "    if index - 1 in missing_indices or index + 1 in missing_indices:\n",
    "        return True\n",
    "    return False\n",
    "\n",
    "filtered_df = filtered_df[~filtered_df.index.map(has_missing_neighbors)]"
   ]
  },
  {
   "cell_type": "markdown",
   "metadata": {},
   "source": [
    "Fill in NaN values with linear interpolation for missing datablocks < 30 datapoints"
   ]
  },
  {
   "cell_type": "code",
   "execution_count": 89,
   "metadata": {},
   "outputs": [],
   "source": [
    "def replace_nan_with_interpolation(df, max_gap=30):\n",
    "    for col in df.columns:\n",
    "        if col == 'Time':\n",
    "            continue\n",
    "        df[col] = df[col].interpolate(method='linear', limit=max_gap, limit_direction='both')\n",
    "    return df\n",
    "# Replace NaN values\n",
    "df = replace_nan_with_interpolation(df, max_gap=30)\n",
    "\n",
    "columns_to_round = ['ana1', 'dig1', 'noise']\n",
    "df[columns_to_round] = df[columns_to_round].round(2)"
   ]
  },
  {
   "cell_type": "markdown",
   "metadata": {},
   "source": [
    "Fill values with linear interpolation for Missing indexes in datablocks < 30 datapoints"
   ]
  },
  {
   "cell_type": "code",
   "execution_count": 90,
   "metadata": {},
   "outputs": [],
   "source": [
    "def find_missing_index_ranges(df):\n",
    "    all_indices = pd.RangeIndex(start=df.index.min(), stop=df.index.max() + 1)\n",
    "    missing_indices = all_indices.difference(df.index)\n",
    "    \n",
    "    results = []\n",
    "    if len(missing_indices) == 0:\n",
    "        return pd.DataFrame(results, columns=['from_index', 'to_index'])\n",
    "    \n",
    "    start_idx = missing_indices[0]\n",
    "    for i in range(1, len(missing_indices)):\n",
    "        if missing_indices[i] != missing_indices[i-1] + 1:\n",
    "            end_idx = missing_indices[i-1]\n",
    "            results.append({'from_index': start_idx, 'to_index': end_idx})\n",
    "            start_idx = missing_indices[i]\n",
    "    results.append({'from_index': start_idx, 'to_index': missing_indices[-1]})\n",
    "    \n",
    "    return pd.DataFrame(results)\n",
    "\n",
    "def fill_missing_indices(df, max_chain_length=30):\n",
    "    missing_ranges = find_missing_index_ranges(df)\n",
    "    \n",
    "    for _, row in missing_ranges.iterrows():\n",
    "        from_index = row['from_index']\n",
    "        to_index = row['to_index']\n",
    "        chain_length = to_index - from_index + 1\n",
    "        \n",
    "        if chain_length < max_chain_length:\n",
    "            if from_index > df.index.min() and to_index < df.index.max():\n",
    "                for col in df.columns:\n",
    "                    if col == 'Time':\n",
    "                        continue\n",
    "                    prev_val = df.at[from_index - 1, col]\n",
    "                    next_val = df.at[to_index + 1, col]\n",
    "                    if not pd.isna(prev_val) and not pd.isna(next_val):\n",
    "                        avg_val = (prev_val + next_val) / 2\n",
    "                        for idx in range(from_index, to_index + 1):\n",
    "                            df.at[idx, col] = avg_val\n",
    "    \n",
    "    df.sort_index(inplace=True)\n",
    "    return df\n",
    "\n",
    "# Fill missing indices\n",
    "df = fill_missing_indices(df)\n",
    "columns_to_round = ['ana1', 'dig1', 'noise']\n",
    "df[columns_to_round] = df[columns_to_round].round(2)"
   ]
  },
  {
   "cell_type": "markdown",
   "metadata": {},
   "source": [
    "Find and interpolate outliers"
   ]
  },
  {
   "cell_type": "code",
   "execution_count": 91,
   "metadata": {},
   "outputs": [],
   "source": [
    "def find_outliers_z_score(df, columns, threshold=3):\n",
    "    outliers = {}\n",
    "    for column in columns:\n",
    "        mean = df[column].mean()\n",
    "        std = df[column].std()\n",
    "        z_scores = (df[column] - mean) / std\n",
    "        outliers[column] = df[(z_scores > threshold) | (z_scores < -threshold)]\n",
    "    return outliers\n",
    "\n",
    "def replace_outliers_with_NaN(df, outliers):\n",
    "    for column, outliers_df in outliers.items():\n",
    "        df.loc[outliers_df.index, column] = np.nan\n",
    "        replace_nan_with_interpolation(df, max_gap=30)\n",
    "    return df\n",
    "\n",
    "columns_to_check = ['ana1', 'dig1']\n",
    "outliers = find_outliers_z_score(df, columns_to_check)\n",
    "\n",
    "df = replace_outliers_with_NaN(df, outliers)\n",
    "\n",
    "columns_to_round = ['ana1', 'dig1', 'noise']\n",
    "df[columns_to_round] = df[columns_to_round].round(2)"
   ]
  },
  {
   "cell_type": "markdown",
   "metadata": {},
   "source": [
    "Check if the Data is actually clean by"
   ]
  },
  {
   "cell_type": "markdown",
   "metadata": {},
   "source": [
    "1. Checking if there are values outside a possible scope"
   ]
  },
  {
   "cell_type": "code",
   "execution_count": null,
   "metadata": {},
   "outputs": [],
   "source": [
    "mask_dig1 = (df['dig1'] < 10) | (df['dig1'] > 50)\n",
    "mask_ana1 = (df['ana1'] < 10) | (df['ana1'] > 50)\n",
    "mask_noise = (df['noise'] < 0) | (df['noise'] > 100)\n",
    "\n",
    "combined_mask = mask_dig1 | mask_ana1 | mask_noise\n",
    "filtered_df = df[combined_mask]\n",
    "\n",
    "print(filtered_df)"
   ]
  },
  {
   "cell_type": "markdown",
   "metadata": {},
   "source": [
    "2. Checking for NaN-Valueranges"
   ]
  },
  {
   "cell_type": "code",
   "execution_count": null,
   "metadata": {},
   "outputs": [],
   "source": [
    "# Function to find from-to indices for NaN values\n",
    "def find_nan_ranges(df):\n",
    "    results = []\n",
    "    for col in df.columns:\n",
    "        if col == 'Time':\n",
    "            continue\n",
    "        nan_indices = df[df[col].isna()].index\n",
    "        if len(nan_indices) == 0:\n",
    "            continue\n",
    "        \n",
    "        start_idx = nan_indices[0]\n",
    "        for i in range(1, len(nan_indices)):\n",
    "            if nan_indices[i] != nan_indices[i-1] + 1:\n",
    "                end_idx = nan_indices[i-1]\n",
    "                results.append({'from-index': start_idx, 'to-index': end_idx, 'affectedSensor': col})\n",
    "                start_idx = nan_indices[i]\n",
    "        results.append({'from-index': start_idx, 'to-index': nan_indices[-1], 'affectedSensor': col})\n",
    "    \n",
    "    return pd.DataFrame(results)\n",
    "\n",
    "# Find from-to ranges for NaN values\n",
    "nan_ranges_df = find_nan_ranges(df)\n",
    "\n",
    "print(nan_ranges_df)"
   ]
  },
  {
   "cell_type": "markdown",
   "metadata": {},
   "source": [
    "3. Checking for missing Indexranges"
   ]
  },
  {
   "cell_type": "code",
   "execution_count": null,
   "metadata": {},
   "outputs": [],
   "source": [
    "def find_missing_index_ranges(df):\n",
    "    all_indices = pd.RangeIndex(start=df.index.min(), stop=df.index.max() + 1)\n",
    "    missing_indices = all_indices.difference(df.index)\n",
    "    \n",
    "    results = []\n",
    "    if len(missing_indices) == 0:\n",
    "        return pd.DataFrame(results, columns=['from_index', 'to_index'])\n",
    "    \n",
    "    start_idx = missing_indices[0]\n",
    "    for i in range(1, len(missing_indices)):\n",
    "        if missing_indices[i] != missing_indices[i-1] + 1:\n",
    "            end_idx = missing_indices[i-1]\n",
    "            results.append({'from_index': start_idx, 'to_index': end_idx})\n",
    "            start_idx = missing_indices[i]\n",
    "    results.append({'from_index': start_idx, 'to_index': missing_indices[-1]})\n",
    "    \n",
    "    return pd.DataFrame(results)\n",
    "\n",
    "# Find ranges of missing indices\n",
    "missing_index_ranges_df = find_missing_index_ranges(df)\n",
    "\n",
    "print(missing_index_ranges_df)"
   ]
  },
  {
   "cell_type": "markdown",
   "metadata": {},
   "source": [
    "Check for outliers"
   ]
  },
  {
   "cell_type": "code",
   "execution_count": null,
   "metadata": {},
   "outputs": [],
   "source": [
    "def find_outliers_z_score(df, column, threshold=3.1):\n",
    "    mean = df[column].mean()\n",
    "    std = df[column].std()\n",
    "    z_scores = (df[column] - mean) / std\n",
    "    outliers = df[(z_scores > threshold) | (z_scores < -threshold)]\n",
    "    return outliers\n",
    "\n",
    "ana1_outliers = find_outliers_z_score(df, 'ana1')\n",
    "dig1_outliers = find_outliers_z_score(df, 'dig1')\n",
    "\n",
    "def check_no_outliers(outliers, column_name):\n",
    "    if outliers.empty:\n",
    "        print(f\"No outliers detected in '{column_name}'.\")\n",
    "    else:\n",
    "        print(f\"Outliers detected in '{column_name}':\")\n",
    "        print(outliers)\n",
    "\n",
    "# Check for outliers in 'ana1' and 'dig1'\n",
    "check_no_outliers(ana1_outliers, 'ana1')\n",
    "check_no_outliers(dig1_outliers, 'dig1')"
   ]
  },
  {
   "cell_type": "markdown",
   "metadata": {},
   "source": [
    "Save and show the new Dataframe"
   ]
  },
  {
   "cell_type": "code",
   "execution_count": null,
   "metadata": {},
   "outputs": [],
   "source": [
    "columns_to_round = ['ana1', 'dig1', 'noise']\n",
    "df[columns_to_round] = df[columns_to_round].round(2)\n",
    "\n",
    "downsampled_df = df.sample(n=100000).sort_values(by=['Time'])\n",
    "\n",
    "# Melt the DataFrame\n",
    "melted_df = downsampled_df.melt(id_vars=['Time'], value_vars=['ana1', 'dig1', 'noise'], var_name='Sensor',value_name='Value')\n",
    "\n",
    "# Create a Plotly figure\n",
    "fig = px.line(melted_df, x='Time', y='Value', color='Sensor', title='Sensor Data Over Time')\n",
    "\n",
    "# Update layout\n",
    "fig.update_layout(\n",
    "    xaxis_title='Time',\n",
    "    yaxis_title='Value',\n",
    "    hovermode='x unified'\n",
    ")\n",
    "\n",
    "# Show the figure\n",
    "fig.show()"
   ]
  },
  {
   "cell_type": "code",
   "execution_count": 97,
   "metadata": {},
   "outputs": [],
   "source": [
    "# Save the DataFrame to a CSV file\n",
    "df.to_csv('2datasetCleaned.csv')"
   ]
  }
 ],
 "metadata": {
  "kernelspec": {
   "display_name": ".venv",
   "language": "python",
   "name": "python3"
  },
  "language_info": {
   "codemirror_mode": {
    "name": "ipython",
    "version": 3
   },
   "file_extension": ".py",
   "mimetype": "text/x-python",
   "name": "python",
   "nbconvert_exporter": "python",
   "pygments_lexer": "ipython3",
   "version": "3.10.6"
  }
 },
 "nbformat": 4,
 "nbformat_minor": 2
}
