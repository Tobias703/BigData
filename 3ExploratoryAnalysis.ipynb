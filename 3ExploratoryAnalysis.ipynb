{
 "cells": [
  {
   "cell_type": "markdown",
   "metadata": {},
   "source": [
    "Python Imports"
   ]
  },
  {
   "cell_type": "code",
   "execution_count": null,
   "metadata": {},
   "outputs": [],
   "source": [
    "%pip install --upgrade pip\n",
    "%pip install pandas\n",
    "%pip install numpy\n",
    "%pip install plotly\n",
    "%pip install nbformat"
   ]
  },
  {
   "cell_type": "code",
   "execution_count": 2,
   "metadata": {},
   "outputs": [],
   "source": [
    "import pandas as pd\n",
    "import numpy as np\n",
    "from itertools import groupby\n",
    "from operator import itemgetter\n",
    "import plotly.graph_objs as go\n",
    "import plotly.express as px"
   ]
  },
  {
   "cell_type": "code",
   "execution_count": null,
   "metadata": {},
   "outputs": [],
   "source": [
    "# pandas settings\n",
    "pd.set_option('display.max_rows', None)\n",
    "pd.set_option('display.max_columns', None)\n",
    "pd.set_option('display.width', 0)\n",
    "pd.set_option('display.max_colwidth', None)\n",
    "pd.set_option('display.expand_frame_repr', False)\n",
    "\n",
    "# Defining variables and functions\n",
    "sensors = [\"dig1\", \"ana1\", \"noise\"]\n",
    "def visualize_dataframe(df, sample_size=None):\n",
    "    # Downsample the DataFrame if sample_size is provided\n",
    "    if sample_size:\n",
    "        downsampled_df = df.sample(n=sample_size).sort_values(by=['Time'])\n",
    "    else:\n",
    "        downsampled_df = df\n",
    "        \n",
    "    # Melt the DataFrame\n",
    "    melted_df = downsampled_df.melt(id_vars=['Time'], value_vars=['ana1', 'dig1', 'noise'], var_name='Sensor', value_name='Value')\n",
    "    \n",
    "    # Create a Plotly figure\n",
    "    fig = px.line(melted_df, x='Time', y='Value', color='Sensor', title='Sensor Data Over Time')\n",
    "    \n",
    "    # Update layout\n",
    "    fig.update_layout(\n",
    "        xaxis_title='Time',\n",
    "        yaxis_title='Value',\n",
    "        hovermode='x unified'\n",
    "    )\n",
    "    \n",
    "    # Show the figure\n",
    "    fig.show()\n",
    "        \n",
    "# Load the dataset\n",
    "df = pd.read_csv('2datasetCleaned.csv', comment='#', low_memory=False)\n",
    "df.set_index('Index', inplace=True)\n",
    "\n",
    "# Display the first few rows of the DataFrame\n",
    "print(df.head())"
   ]
  },
  {
   "cell_type": "markdown",
   "metadata": {},
   "source": [
    "Get a List with Pairs of Datapoints with from/to values of Missing IDs"
   ]
  },
  {
   "cell_type": "code",
   "execution_count": null,
   "metadata": {},
   "outputs": [],
   "source": [
    "all_indexes = pd.Series(range(df.index.min(), df.index.max() + 1))\n",
    "missing_indexes = all_indexes[~all_indexes.isin(df.index)]\n",
    "\n",
    "# Find ranges of missing indexes\n",
    "missing_ranges = []\n",
    "for k, g in groupby(enumerate(missing_indexes), lambda x: x[0] - x[1]):\n",
    "    group = list(map(itemgetter(1), g))\n",
    "    missing_ranges.append((group[0], group[-1]))\n",
    "\n",
    "# Create a DataFrame with the required columns\n",
    "missing_data = []\n",
    "for start, end in missing_ranges:\n",
    "    first_missing_date = df.loc[start - 1, 'Time'] if start - 1 in df.index else None\n",
    "    last_missing_date = df.loc[end + 1, 'Time'] if end + 1 in df.index else None\n",
    "    missing_data.append([start, end, first_missing_date, last_missing_date])\n",
    "\n",
    "missing_df = pd.DataFrame(missing_data, columns=['First Missing Index', 'Last Missing Index', 'First Missing Time', 'Last Missing Time'])\n",
    "\n",
    "print(missing_df.head())\n",
    "\n",
    "# Visualize the DataFrame\n",
    "first_time = df['Time'].iloc[0]\n",
    "last_time = df['Time'].iloc[-1]\n"
   ]
  },
  {
   "cell_type": "markdown",
   "metadata": {},
   "source": [
    "Clean the Data"
   ]
  },
  {
   "cell_type": "code",
   "execution_count": 5,
   "metadata": {},
   "outputs": [],
   "source": [
    "df.loc[df['dig1'] < 10, 'dig1'] = np.nan\n",
    "df.loc[df['dig1'] > 50, 'dig1'] = np.nan\n",
    "df.loc[df['ana1'] < 10, 'ana1'] = np.nan\n",
    "df.loc[df['ana1'] > 50, 'ana1'] = np.nan\n",
    "df.loc[df['noise'] < 0, 'noise'] = np.nan\n",
    "df.loc[df['noise'] > 100, 'noise'] = np.nan"
   ]
  },
  {
   "cell_type": "markdown",
   "metadata": {},
   "source": [
    "Get Datapoints around the highest and lowest Values for each Sensor"
   ]
  },
  {
   "cell_type": "code",
   "execution_count": null,
   "metadata": {},
   "outputs": [],
   "source": [
    "results = {}\n",
    "\n",
    "for sensor in sensors:\n",
    "    # Find the index of the maximum value for the sensor\n",
    "    max_index = df[sensor].idxmax()    \n",
    "    min_index = df[sensor].idxmin()\n",
    "\n",
    "    # Get x datapoints above and below the max_index\n",
    "    x = 360\n",
    "    start_index_max = max_index - x\n",
    "    end_index_max = max_index + x\n",
    "    start_index_min = min_index - x\n",
    "    end_index_min = min_index + x\n",
    "    \n",
    "\n",
    "    # Ensure indices are within the DataFrame's range\n",
    "    if start_index_max < df.index.min():\n",
    "        start_index_max = df.index.min()\n",
    "    if end_index_max > df.index.max():\n",
    "        end_index_max = df.index.max()\n",
    "    if start_index_min < df.index.min():\n",
    "        start_index_min = df.index.min()\n",
    "    if end_index_min > df.index.max():\n",
    "        end_index_min = df.index.max()\n",
    "\n",
    "    # Extract the datapoints\n",
    "    results_max = {}\n",
    "    results_min = {}\n",
    "    results_max[sensor] = df.loc[start_index_max:end_index_max]\n",
    "    results_min[sensor] = df.loc[start_index_min:end_index_min]\n",
    "    \n",
    "\n",
    "    print(f\"Max val Sensor: {sensor} \" + str(df.loc[max_index, sensor]))\n",
    "    print(results_max[sensor])\n",
    "    print(\"\")\n",
    "    visualize_dataframe(results_max[sensor])\n",
    "    \n",
    "    print(f\"Min val Sensor: {sensor} \" + str(df.loc[min_index, sensor]))\n",
    "    print(results_min[sensor])\n",
    "    print(\"\")\n",
    "    visualize_dataframe(results_min[sensor])"
   ]
  },
  {
   "cell_type": "markdown",
   "metadata": {},
   "source": [
    "Create a Plotly Visualization"
   ]
  },
  {
   "cell_type": "code",
   "execution_count": null,
   "metadata": {},
   "outputs": [],
   "source": [
    "print(df.head())\n",
    "visualize_dataframe(df, 100000)"
   ]
  }
 ],
 "metadata": {
  "kernelspec": {
   "display_name": "Python 3",
   "language": "python",
   "name": "python3"
  },
  "language_info": {
   "codemirror_mode": {
    "name": "ipython",
    "version": 3
   },
   "file_extension": ".py",
   "mimetype": "text/x-python",
   "name": "python",
   "nbconvert_exporter": "python",
   "pygments_lexer": "ipython3",
   "version": "3.10.6"
  }
 },
 "nbformat": 4,
 "nbformat_minor": 2
}
