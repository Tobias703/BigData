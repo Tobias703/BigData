{
 "cells": [
  {
   "cell_type": "markdown",
   "metadata": {},
   "source": [
    "Python Imports"
   ]
  },
  {
   "cell_type": "code",
   "execution_count": null,
   "metadata": {},
   "outputs": [],
   "source": [
    "%pip install --upgrade pip\n",
    "%pip install pandas\n",
    "%pip install numpy\n",
    "%pip install plotly\n",
    "%pip install nbformat\n",
    "%pip install statsmodels"
   ]
  },
  {
   "cell_type": "code",
   "execution_count": 2,
   "metadata": {},
   "outputs": [],
   "source": [
    "import pandas as pd\n",
    "import numpy as np\n",
    "from itertools import groupby\n",
    "from operator import itemgetter\n",
    "import plotly.graph_objs as go\n",
    "import plotly.express as px\n",
    "from statsmodels.tsa.arima.model import ARIMA\n",
    "from statsmodels.tsa.stattools import adfuller\n"
   ]
  },
  {
   "cell_type": "code",
   "execution_count": null,
   "metadata": {},
   "outputs": [],
   "source": [
    "# pandas settings\n",
    "pd.set_option('display.max_rows', None)\n",
    "pd.set_option('display.max_columns', None)\n",
    "pd.set_option('display.width', 0)\n",
    "pd.set_option('display.max_colwidth', None)\n",
    "pd.set_option('display.expand_frame_repr', False)\n",
    "\n",
    "# Defining variables and functions\n",
    "sensors = [\"dig1\", \"ana1\", \"noise\"]\n",
    "def visualize_dataframe(df, sample_size=None):\n",
    "    # Downsample the DataFrame if sample_size is provided\n",
    "    if sample_size:\n",
    "        downsampled_df = df.sample(n=sample_size).sort_values(by=['Time'])\n",
    "    else:\n",
    "        downsampled_df = df\n",
    "        \n",
    "    # Melt the DataFrame\n",
    "    melted_df = downsampled_df.melt(id_vars=['Time'], value_vars=['ana1', 'dig1', 'noise'], var_name='Sensor', value_name='Value')\n",
    "    \n",
    "    # Create a Plotly figure\n",
    "    fig = px.line(melted_df, x='Time', y='Value', color='Sensor', title='Sensor Data Over Time')\n",
    "    \n",
    "    # Update layout\n",
    "    fig.update_layout(\n",
    "        xaxis_title='Time',\n",
    "        yaxis_title='Value',\n",
    "        hovermode='x unified'\n",
    "    )\n",
    "    \n",
    "    # Show the figure\n",
    "    fig.show()\n",
    "        \n",
    "# Load the dataset\n",
    "df = pd.read_csv('2datasetCleaned.csv', comment='#', low_memory=False)\n",
    "df.set_index('Index', inplace=True)\n",
    "\n",
    "# Display the first few rows of the DataFrame\n",
    "print(df.head())"
   ]
  },
  {
   "cell_type": "markdown",
   "metadata": {},
   "source": [
    "Checking if the Data is stationary"
   ]
  },
  {
   "cell_type": "code",
   "execution_count": null,
   "metadata": {},
   "outputs": [],
   "source": [
    "df_5min = df.copy()\n",
    "df_5min['Time'] = pd.to_datetime(df_5min['Time'])\n",
    "df_5min.set_index('Time', inplace=True)\n",
    "df_5min = df_5min.resample('5min').mean()\n",
    "sensor_columns = ['dig1', 'ana1', 'noise']\n",
    "\n",
    "def check_stationarity(data):\n",
    "    result = adfuller(data)\n",
    "    print('ADF Statistic:', result[0])\n",
    "    print('p-value:', result[1])\n",
    "    for key, value in result[4].items():\n",
    "        print('Critical Values:')\n",
    "        print(f'   {key}, {value}')\n",
    "\n",
    "# Check stationarity for each sensor column\n",
    "for sensor in sensor_columns:\n",
    "    print(f\"Checking stationarity for {sensor}:\")\n",
    "    check_stationarity(df_5min[sensor].dropna())\n",
    "    print(\"\\n\")"
   ]
  },
  {
   "cell_type": "markdown",
   "metadata": {},
   "source": [
    "Visualizing trends with heatmaps"
   ]
  },
  {
   "cell_type": "code",
   "execution_count": null,
   "metadata": {},
   "outputs": [],
   "source": [
    "df['Time'] = pd.to_datetime(df['Time'])\n",
    "\n",
    "df['Hour'] = df['Time'].dt.hour\n",
    "df['Date'] = df['Time'].dt.date\n",
    "\n",
    "df_hourly = df.groupby(['Date', 'Hour'])[sensor_columns].mean().reset_index()\n",
    "\n",
    "# Loop through each sensor column to create heatmaps\n",
    "for sensor in sensor_columns:\n",
    "    # Pivot the data to get hours on the y-axis and days on the x-axis\n",
    "    heatmap_data = df_hourly.pivot_table(index='Hour', columns='Date', values=sensor, aggfunc='mean')\n",
    "    \n",
    "    # Create a heatmap for the sensor\n",
    "    heatmap = go.Figure(data=go.Heatmap(\n",
    "        z=heatmap_data.values,\n",
    "        x=heatmap_data.columns,\n",
    "        y=heatmap_data.index,\n",
    "        colorscale='Viridis',\n",
    "        colorbar=dict(title=f'{sensor} readings')\n",
    "    ))\n",
    "    \n",
    "    # Update layout\n",
    "    heatmap.update_layout(\n",
    "        title=f'{sensor} Readings Heatmap',\n",
    "        xaxis_title='Date',\n",
    "        yaxis_title='Hour of the Day',\n",
    "        height=800,\n",
    "        width=1200\n",
    "    )\n",
    "    \n",
    "    # Show the plot\n",
    "    heatmap.show()"
   ]
  }
 ],
 "metadata": {
  "kernelspec": {
   "display_name": ".venv",
   "language": "python",
   "name": "python3"
  },
  "language_info": {
   "codemirror_mode": {
    "name": "ipython",
    "version": 3
   },
   "file_extension": ".py",
   "mimetype": "text/x-python",
   "name": "python",
   "nbconvert_exporter": "python",
   "pygments_lexer": "ipython3",
   "version": "3.10.6"
  }
 },
 "nbformat": 4,
 "nbformat_minor": 2
}
