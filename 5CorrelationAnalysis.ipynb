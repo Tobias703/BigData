{
 "cells": [
  {
   "cell_type": "markdown",
   "metadata": {},
   "source": [
    "Python Imports"
   ]
  },
  {
   "cell_type": "code",
   "execution_count": null,
   "metadata": {},
   "outputs": [],
   "source": [
    "%pip install --upgrade pip\n",
    "%pip install pandas\n",
    "%pip install numpy\n",
    "%pip install plotly\n",
    "%pip install nbformat\n",
    "%pip install statsmodels"
   ]
  },
  {
   "cell_type": "code",
   "execution_count": 3,
   "metadata": {},
   "outputs": [],
   "source": [
    "import pandas as pd\n",
    "import numpy as np\n",
    "from itertools import groupby\n",
    "from operator import itemgetter\n",
    "import plotly.graph_objs as go\n",
    "import plotly.express as px\n",
    "from statsmodels.tsa.arima.model import ARIMA\n",
    "from statsmodels.tsa.stattools import adfuller\n"
   ]
  },
  {
   "cell_type": "code",
   "execution_count": null,
   "metadata": {},
   "outputs": [],
   "source": [
    "# pandas settings\n",
    "pd.set_option('display.max_rows', None)\n",
    "pd.set_option('display.max_columns', None)\n",
    "pd.set_option('display.width', 0)\n",
    "pd.set_option('display.max_colwidth', None)\n",
    "pd.set_option('display.expand_frame_repr', False)\n",
    "\n",
    "# Defining variables and functions\n",
    "sensors = [\"dig1\", \"ana1\", \"noise\"]\n",
    "def visualize_dataframe(df, sample_size=None):\n",
    "    # Downsample the DataFrame if sample_size is provided\n",
    "    if sample_size:\n",
    "        downsampled_df = df.sample(n=sample_size).sort_values(by=['Time'])\n",
    "    else:\n",
    "        downsampled_df = df\n",
    "        \n",
    "    # Melt the DataFrame\n",
    "    melted_df = downsampled_df.melt(id_vars=['Time'], value_vars=['ana1', 'dig1', 'noise'], var_name='Sensor', value_name='Value')\n",
    "    \n",
    "    # Create a Plotly figure\n",
    "    fig = px.line(melted_df, x='Time', y='Value', color='Sensor', title='Sensor Data Over Time')\n",
    "    \n",
    "    # Update layout\n",
    "    fig.update_layout(\n",
    "        xaxis_title='Time',\n",
    "        yaxis_title='Value',\n",
    "        hovermode='x unified'\n",
    "    )\n",
    "    \n",
    "    # Show the figure\n",
    "    fig.show()\n",
    "        \n",
    "# Load the dataset\n",
    "df = pd.read_csv('2datasetCleaned.csv', comment='#', low_memory=False)\n",
    "df.set_index('Index', inplace=True)\n",
    "\n",
    "# Display the first few rows of the DataFrame\n",
    "print(df.head())"
   ]
  },
  {
   "cell_type": "code",
   "execution_count": null,
   "metadata": {},
   "outputs": [],
   "source": [
    "sensor_columns = ['dig1', 'ana1', 'noise']\n",
    "\n",
    "# Compute the correlation coefficients\n",
    "corr_dig1_ana1 = df['dig1'].corr(df['ana1'])\n",
    "corr_dig1_noise = df['dig1'].corr(df['noise'])\n",
    "corr_ana1_noise = df['ana1'].corr(df['noise'])\n",
    "\n",
    "# Create scatter plots\n",
    "fig1 = px.scatter(df, x='dig1', y='ana1', title=f'dig1 vs ana1 (Correlation: {corr_dig1_ana1:.2f})')\n",
    "fig2 = px.scatter(df, x='dig1', y='noise', title=f'dig1 vs noise (Correlation: {corr_dig1_noise:.2f})')\n",
    "fig3 = px.scatter(df, x='ana1', y='noise', title=f'ana1 vs noise (Correlation: {corr_ana1_noise:.2f})')\n",
    "\n",
    "# Show the plots\n",
    "fig1.show()\n",
    "fig2.show()\n",
    "fig3.show()"
   ]
  }
 ],
 "metadata": {
  "kernelspec": {
   "display_name": ".venv",
   "language": "python",
   "name": "python3"
  },
  "language_info": {
   "codemirror_mode": {
    "name": "ipython",
    "version": 3
   },
   "file_extension": ".py",
   "mimetype": "text/x-python",
   "name": "python",
   "nbconvert_exporter": "python",
   "pygments_lexer": "ipython3",
   "version": "3.10.6"
  }
 },
 "nbformat": 4,
 "nbformat_minor": 2
}
